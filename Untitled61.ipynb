{
 "cells": [
  {
   "cell_type": "code",
   "execution_count": 201,
   "metadata": {},
   "outputs": [
    {
     "name": "stdout",
     "output_type": "stream",
     "text": [
      "Populating the interactive namespace from numpy and matplotlib\n"
     ]
    }
   ],
   "source": [
    "import sys\n",
    "import warnings\n",
    "warnings.filterwarnings('ignore')\n",
    "from tqdm import tqdm\n",
    "import pandas as pd\n",
    "import numpy as np\n",
    "from sklearn.metrics import mean_absolute_error, mean_squared_error\n",
    "import statsmodels.formula.api as smf\n",
    "import statsmodels.tsa.api as smt\n",
    "import statsmodels.api as sm\n",
    "import scipy.stats as scs\n",
    "from scipy.optimize import minimize\n",
    "\n",
    "import matplotlib.pyplot as plt\n",
    "import datetime\n",
    "%pylab inline\n",
    "from sklearn.cluster import DBSCAN\n",
    "from geopy.distance import great_circle\n",
    "from shapely.geometry import MultiPoint"
   ]
  },
  {
   "cell_type": "code",
   "execution_count": 328,
   "metadata": {},
   "outputs": [],
   "source": [
    "df = pd.read_csv('C:/Users/HP/Downloads/CL_megafon_Cup IT_2020_final_data.csv', sep=';')"
   ]
  },
  {
   "cell_type": "code",
   "execution_count": 239,
   "metadata": {},
   "outputs": [],
   "source": [
    "\n",
    "coords = df.as_matrix(columns=['place_latitude', 'place_longitude'])"
   ]
  },
  {
   "cell_type": "code",
   "execution_count": 296,
   "metadata": {},
   "outputs": [],
   "source": [
    "kms_per_radian = 6371.0088\n",
    "epsilon = 5 / kms_per_radian"
   ]
  },
  {
   "cell_type": "code",
   "execution_count": 297,
   "metadata": {},
   "outputs": [
    {
     "name": "stdout",
     "output_type": "stream",
     "text": [
      "Number of clusters: 922\n"
     ]
    }
   ],
   "source": [
    "\n",
    "start_time = time.time()\n",
    "db = DBSCAN(eps=epsilon, min_samples=1, algorithm='ball_tree', metric='haversine').fit(np.radians(coords))\n",
    "cluster_labels = db.labels_\n",
    "num_clusters = len(set(cluster_labels))\n",
    "clusters = pd.Series([coords[cluster_labels == n] for n in range(num_clusters)])\n",
    "print('Number of clusters: {}'.format(num_clusters))"
   ]
  },
  {
   "cell_type": "code",
   "execution_count": 346,
   "metadata": {},
   "outputs": [
    {
     "name": "stdout",
     "output_type": "stream",
     "text": [
      "Clustered 78,223 points down to 922 clusters, for 98.8% compression in 996.56 seconds\n"
     ]
    }
   ],
   "source": [
    "message = 'Clustered {:,} points down to {:,} clusters, for {:.1f}% compression in {:,.2f} seconds'\n",
    "print(message.format(len(df), num_clusters, 100*(1 - float(num_clusters) / len(df)), time.time()-start_time))\n"
   ]
  },
  {
   "cell_type": "code",
   "execution_count": 316,
   "metadata": {},
   "outputs": [],
   "source": [
    "def get_centermost_point(cluster):\n",
    "    centroid = (MultiPoint(cluster).centroid.x, MultiPoint(cluster).centroid.y)\n",
    "    centermost_point = min(cluster, key=lambda point: great_circle(point, centroid).m)\n",
    "    return tuple(centermost_point)\n",
    "centermost_points = clusters.map(get_centermost_point)\n"
   ]
  },
  {
   "cell_type": "code",
   "execution_count": 317,
   "metadata": {},
   "outputs": [],
   "source": [
    "place_latitude, place_longitude = zip(*centermost_points)\n",
    "rep_points = pd.DataFrame({'place_latitude':place_latitude, 'place_longitude':place_longitude})\n"
   ]
  },
  {
   "cell_type": "code",
   "execution_count": null,
   "metadata": {},
   "outputs": [],
   "source": []
  },
  {
   "cell_type": "code",
   "execution_count": 318,
   "metadata": {},
   "outputs": [],
   "source": [
    "rs = rep_points.apply(lambda row: df[(df['place_latitude']==row['place_latitude']) & (df['place_longitude']==row['place_longitude'])].iloc[0], axis=1)"
   ]
  },
  {
   "cell_type": "code",
   "execution_count": 319,
   "metadata": {},
   "outputs": [
    {
     "data": {
      "text/html": [
       "<div>\n",
       "<style scoped>\n",
       "    .dataframe tbody tr th:only-of-type {\n",
       "        vertical-align: middle;\n",
       "    }\n",
       "\n",
       "    .dataframe tbody tr th {\n",
       "        vertical-align: top;\n",
       "    }\n",
       "\n",
       "    .dataframe thead th {\n",
       "        text-align: right;\n",
       "    }\n",
       "</style>\n",
       "<table border=\"1\" class=\"dataframe\">\n",
       "  <thead>\n",
       "    <tr style=\"text-align: right;\">\n",
       "      <th></th>\n",
       "      <th>time_start</th>\n",
       "      <th>time_end</th>\n",
       "      <th>place_latitude</th>\n",
       "      <th>place_longitude</th>\n",
       "    </tr>\n",
       "  </thead>\n",
       "  <tbody>\n",
       "    <tr>\n",
       "      <td>0</td>\n",
       "      <td>2019-12-27 15:23:27</td>\n",
       "      <td>2019-12-27 16:43:00</td>\n",
       "      <td>28.737292</td>\n",
       "      <td>114.539922</td>\n",
       "    </tr>\n",
       "    <tr>\n",
       "      <td>1</td>\n",
       "      <td>2019-06-30 08:19:06</td>\n",
       "      <td>2019-06-30 09:12:08</td>\n",
       "      <td>29.098739</td>\n",
       "      <td>112.729739</td>\n",
       "    </tr>\n",
       "    <tr>\n",
       "      <td>2</td>\n",
       "      <td>2018-09-03 12:03:56</td>\n",
       "      <td>2018-09-03 12:38:00</td>\n",
       "      <td>28.912506</td>\n",
       "      <td>112.914016</td>\n",
       "    </tr>\n",
       "    <tr>\n",
       "      <td>3</td>\n",
       "      <td>2018-06-14 15:53:51</td>\n",
       "      <td>2018-06-14 16:33:52</td>\n",
       "      <td>28.892500</td>\n",
       "      <td>113.032222</td>\n",
       "    </tr>\n",
       "    <tr>\n",
       "      <td>4</td>\n",
       "      <td>2019-08-06 17:58:27</td>\n",
       "      <td>2019-08-06 18:40:17</td>\n",
       "      <td>28.494333</td>\n",
       "      <td>113.040972</td>\n",
       "    </tr>\n",
       "    <tr>\n",
       "      <td>...</td>\n",
       "      <td>...</td>\n",
       "      <td>...</td>\n",
       "      <td>...</td>\n",
       "      <td>...</td>\n",
       "    </tr>\n",
       "    <tr>\n",
       "      <td>917</td>\n",
       "      <td>2018-11-14 14:48:53</td>\n",
       "      <td>2018-11-14 15:34:28</td>\n",
       "      <td>29.111777</td>\n",
       "      <td>115.618655</td>\n",
       "    </tr>\n",
       "    <tr>\n",
       "      <td>918</td>\n",
       "      <td>2019-08-12 09:36:38</td>\n",
       "      <td>2019-08-12 13:01:10</td>\n",
       "      <td>29.002219</td>\n",
       "      <td>113.609172</td>\n",
       "    </tr>\n",
       "    <tr>\n",
       "      <td>919</td>\n",
       "      <td>2018-10-26 16:12:42</td>\n",
       "      <td>2018-10-26 17:22:52</td>\n",
       "      <td>28.254167</td>\n",
       "      <td>115.270278</td>\n",
       "    </tr>\n",
       "    <tr>\n",
       "      <td>920</td>\n",
       "      <td>2018-12-31 11:54:13</td>\n",
       "      <td>2018-12-31 21:11:13</td>\n",
       "      <td>29.825980</td>\n",
       "      <td>115.072900</td>\n",
       "    </tr>\n",
       "    <tr>\n",
       "      <td>921</td>\n",
       "      <td>2019-01-07 13:15:07</td>\n",
       "      <td>2019-01-07 15:00:57</td>\n",
       "      <td>30.171030</td>\n",
       "      <td>115.814560</td>\n",
       "    </tr>\n",
       "  </tbody>\n",
       "</table>\n",
       "<p>922 rows × 4 columns</p>\n",
       "</div>"
      ],
      "text/plain": [
       "              time_start             time_end  place_latitude  place_longitude\n",
       "0    2019-12-27 15:23:27  2019-12-27 16:43:00       28.737292       114.539922\n",
       "1    2019-06-30 08:19:06  2019-06-30 09:12:08       29.098739       112.729739\n",
       "2    2018-09-03 12:03:56  2018-09-03 12:38:00       28.912506       112.914016\n",
       "3    2018-06-14 15:53:51  2018-06-14 16:33:52       28.892500       113.032222\n",
       "4    2019-08-06 17:58:27  2019-08-06 18:40:17       28.494333       113.040972\n",
       "..                   ...                  ...             ...              ...\n",
       "917  2018-11-14 14:48:53  2018-11-14 15:34:28       29.111777       115.618655\n",
       "918  2019-08-12 09:36:38  2019-08-12 13:01:10       29.002219       113.609172\n",
       "919  2018-10-26 16:12:42  2018-10-26 17:22:52       28.254167       115.270278\n",
       "920  2018-12-31 11:54:13  2018-12-31 21:11:13       29.825980       115.072900\n",
       "921  2019-01-07 13:15:07  2019-01-07 15:00:57       30.171030       115.814560\n",
       "\n",
       "[922 rows x 4 columns]"
      ]
     },
     "execution_count": 319,
     "metadata": {},
     "output_type": "execute_result"
    }
   ],
   "source": [
    "rs"
   ]
  },
  {
   "cell_type": "code",
   "execution_count": 320,
   "metadata": {},
   "outputs": [],
   "source": [
    "rs['time_start'] = pd.to_datetime(rs['time_start'])\n",
    "rs['time_end'] = pd.to_datetime(rs['time_end'])\n",
    " "
   ]
  },
  {
   "cell_type": "code",
   "execution_count": 321,
   "metadata": {},
   "outputs": [],
   "source": [
    "duration = rs['time_end']-rs['time_start']"
   ]
  },
  {
   "cell_type": "code",
   "execution_count": 322,
   "metadata": {},
   "outputs": [],
   "source": [
    "hours = duration.dt.seconds/3600"
   ]
  },
  {
   "cell_type": "code",
   "execution_count": 323,
   "metadata": {},
   "outputs": [],
   "source": [
    "rs['duration']= duration"
   ]
  },
  {
   "cell_type": "code",
   "execution_count": 324,
   "metadata": {},
   "outputs": [],
   "source": [
    "rs['hours']= hours"
   ]
  },
  {
   "cell_type": "code",
   "execution_count": 339,
   "metadata": {},
   "outputs": [
    {
     "data": {
      "text/plain": [
       "801    0 days 00:14:30\n",
       "132    0 days 00:17:36\n",
       "899    0 days 00:19:29\n",
       "817    0 days 00:20:53\n",
       "831    0 days 00:23:24\n",
       "            ...       \n",
       "315    3 days 22:54:53\n",
       "160    4 days 10:37:06\n",
       "217    4 days 17:36:46\n",
       "42    12 days 18:12:22\n",
       "391   25 days 12:14:45\n",
       "Name: duration, Length: 922, dtype: timedelta64[ns]"
      ]
     },
     "execution_count": 339,
     "metadata": {},
     "output_type": "execute_result"
    }
   ],
   "source": [
    "rs.duration.sort_values()"
   ]
  },
  {
   "cell_type": "code",
   "execution_count": 343,
   "metadata": {},
   "outputs": [],
   "source": [
    "import folium\n",
    "\n",
    "lat = rs['place_latitude']\n",
    "lon = rs['place_longitude']\n",
    "\n"
   ]
  },
  {
   "cell_type": "code",
   "execution_count": 344,
   "metadata": {},
   "outputs": [],
   "source": [
    "map = folium.Map(location=[28.102908,113.617867 ], zoom_start = 5)\n",
    "\n",
    "for lat, lon in zip(lat, lon):\n",
    "    folium.Marker(location=[lat, lon], icon=folium.Icon(color = 'gray')).add_to(map)\n",
    "\n"
   ]
  },
  {
   "cell_type": "code",
   "execution_count": 345,
   "metadata": {},
   "outputs": [],
   "source": [
    "map.save(\"map5.html\")"
   ]
  },
  {
   "cell_type": "code",
   "execution_count": null,
   "metadata": {},
   "outputs": [],
   "source": []
  }
 ],
 "metadata": {
  "kernelspec": {
   "display_name": "Python 3",
   "language": "python",
   "name": "python3"
  },
  "language_info": {
   "codemirror_mode": {
    "name": "ipython",
    "version": 3
   },
   "file_extension": ".py",
   "mimetype": "text/x-python",
   "name": "python",
   "nbconvert_exporter": "python",
   "pygments_lexer": "ipython3",
   "version": "3.7.4"
  }
 },
 "nbformat": 4,
 "nbformat_minor": 2
}

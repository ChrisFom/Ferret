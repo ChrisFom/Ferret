{
 "cells": [
  {
   "cell_type": "code",
   "execution_count": 162,
   "metadata": {},
   "outputs": [
    {
     "name": "stdout",
     "output_type": "stream",
     "text": [
      "Populating the interactive namespace from numpy and matplotlib\n"
     ]
    }
   ],
   "source": [
    "import sys\n",
    "import warnings\n",
    "warnings.filterwarnings('ignore')\n",
    "from tqdm import tqdm\n",
    "import pandas as pd\n",
    "import numpy as np\n",
    "from sklearn.metrics import mean_absolute_error, mean_squared_error\n",
    "import statsmodels.formula.api as smf\n",
    "import statsmodels.tsa.api as smt\n",
    "import statsmodels.api as sm\n",
    "import scipy.stats as scs\n",
    "from scipy.optimize import minimize\n",
    "\n",
    "import matplotlib.pyplot as plt\n",
    "import datetime\n",
    "%pylab inline"
   ]
  },
  {
   "cell_type": "code",
   "execution_count": 163,
   "metadata": {},
   "outputs": [],
   "source": [
    "df = pd.read_csv('C:/Users/HP/Downloads/CL_megafon_Cup IT_2020_final_data.csv', sep=';')"
   ]
  },
  {
   "cell_type": "code",
   "execution_count": 164,
   "metadata": {},
   "outputs": [],
   "source": [
    "df['time_start'] = pd.to_datetime(df['time_start'])"
   ]
  },
  {
   "cell_type": "code",
   "execution_count": 165,
   "metadata": {},
   "outputs": [],
   "source": [
    "df['time_end'] = pd.to_datetime(df['time_end'])\n",
    " "
   ]
  },
  {
   "cell_type": "code",
   "execution_count": 166,
   "metadata": {},
   "outputs": [],
   "source": [
    "duration = df['time_end']-df['time_start']"
   ]
  },
  {
   "cell_type": "code",
   "execution_count": 167,
   "metadata": {},
   "outputs": [],
   "source": [
    "hours = duration.dt.seconds/3600"
   ]
  },
  {
   "cell_type": "code",
   "execution_count": 168,
   "metadata": {},
   "outputs": [],
   "source": [
    "df['duration']= duration"
   ]
  },
  {
   "cell_type": "code",
   "execution_count": 169,
   "metadata": {},
   "outputs": [],
   "source": [
    "df['hours']= hours"
   ]
  },
  {
   "cell_type": "code",
   "execution_count": 170,
   "metadata": {},
   "outputs": [
    {
     "data": {
      "text/html": [
       "<div>\n",
       "<style scoped>\n",
       "    .dataframe tbody tr th:only-of-type {\n",
       "        vertical-align: middle;\n",
       "    }\n",
       "\n",
       "    .dataframe tbody tr th {\n",
       "        vertical-align: top;\n",
       "    }\n",
       "\n",
       "    .dataframe thead th {\n",
       "        text-align: right;\n",
       "    }\n",
       "</style>\n",
       "<table border=\"1\" class=\"dataframe\">\n",
       "  <thead>\n",
       "    <tr style=\"text-align: right;\">\n",
       "      <th></th>\n",
       "      <th>time_start</th>\n",
       "      <th>time_end</th>\n",
       "      <th>place_latitude</th>\n",
       "      <th>place_longitude</th>\n",
       "      <th>duration</th>\n",
       "      <th>hours</th>\n",
       "    </tr>\n",
       "  </thead>\n",
       "  <tbody>\n",
       "    <tr>\n",
       "      <td>0</td>\n",
       "      <td>2019-08-24 14:23:56</td>\n",
       "      <td>2019-08-24 18:54:47</td>\n",
       "      <td>28.102908</td>\n",
       "      <td>113.617867</td>\n",
       "      <td>04:30:51</td>\n",
       "      <td>4.514167</td>\n",
       "    </tr>\n",
       "    <tr>\n",
       "      <td>1</td>\n",
       "      <td>2018-06-19 08:56:22</td>\n",
       "      <td>2018-06-19 12:15:26</td>\n",
       "      <td>28.102908</td>\n",
       "      <td>113.617867</td>\n",
       "      <td>03:19:04</td>\n",
       "      <td>3.317778</td>\n",
       "    </tr>\n",
       "    <tr>\n",
       "      <td>2</td>\n",
       "      <td>2018-08-29 14:00:32</td>\n",
       "      <td>2018-08-29 14:37:51</td>\n",
       "      <td>28.102908</td>\n",
       "      <td>113.617867</td>\n",
       "      <td>00:37:19</td>\n",
       "      <td>0.621944</td>\n",
       "    </tr>\n",
       "    <tr>\n",
       "      <td>3</td>\n",
       "      <td>2019-12-10 16:01:26</td>\n",
       "      <td>2019-12-10 16:35:22</td>\n",
       "      <td>28.102908</td>\n",
       "      <td>113.617867</td>\n",
       "      <td>00:33:56</td>\n",
       "      <td>0.565556</td>\n",
       "    </tr>\n",
       "    <tr>\n",
       "      <td>4</td>\n",
       "      <td>2019-12-10 13:39:42</td>\n",
       "      <td>2019-12-10 17:58:22</td>\n",
       "      <td>28.999495</td>\n",
       "      <td>115.167583</td>\n",
       "      <td>04:18:40</td>\n",
       "      <td>4.311111</td>\n",
       "    </tr>\n",
       "    <tr>\n",
       "      <td>...</td>\n",
       "      <td>...</td>\n",
       "      <td>...</td>\n",
       "      <td>...</td>\n",
       "      <td>...</td>\n",
       "      <td>...</td>\n",
       "      <td>...</td>\n",
       "    </tr>\n",
       "    <tr>\n",
       "      <td>78218</td>\n",
       "      <td>2018-06-25 11:25:04</td>\n",
       "      <td>2018-06-25 14:39:32</td>\n",
       "      <td>28.945221</td>\n",
       "      <td>114.357402</td>\n",
       "      <td>03:14:28</td>\n",
       "      <td>3.241111</td>\n",
       "    </tr>\n",
       "    <tr>\n",
       "      <td>78219</td>\n",
       "      <td>2018-04-06 10:07:13</td>\n",
       "      <td>2018-04-06 16:34:40</td>\n",
       "      <td>28.619318</td>\n",
       "      <td>114.397573</td>\n",
       "      <td>06:27:27</td>\n",
       "      <td>6.457500</td>\n",
       "    </tr>\n",
       "    <tr>\n",
       "      <td>78220</td>\n",
       "      <td>2018-07-13 22:59:34</td>\n",
       "      <td>2018-07-14 00:05:50</td>\n",
       "      <td>28.619318</td>\n",
       "      <td>114.397573</td>\n",
       "      <td>01:06:16</td>\n",
       "      <td>1.104444</td>\n",
       "    </tr>\n",
       "    <tr>\n",
       "      <td>78221</td>\n",
       "      <td>2018-11-06 00:05:57</td>\n",
       "      <td>2018-11-06 08:50:10</td>\n",
       "      <td>28.619318</td>\n",
       "      <td>114.397573</td>\n",
       "      <td>08:44:13</td>\n",
       "      <td>8.736944</td>\n",
       "    </tr>\n",
       "    <tr>\n",
       "      <td>78222</td>\n",
       "      <td>2018-10-15 02:24:15</td>\n",
       "      <td>2018-10-15 18:03:48</td>\n",
       "      <td>28.619318</td>\n",
       "      <td>114.397573</td>\n",
       "      <td>15:39:33</td>\n",
       "      <td>15.659167</td>\n",
       "    </tr>\n",
       "  </tbody>\n",
       "</table>\n",
       "<p>78223 rows × 6 columns</p>\n",
       "</div>"
      ],
      "text/plain": [
       "               time_start            time_end  place_latitude  \\\n",
       "0     2019-08-24 14:23:56 2019-08-24 18:54:47       28.102908   \n",
       "1     2018-06-19 08:56:22 2018-06-19 12:15:26       28.102908   \n",
       "2     2018-08-29 14:00:32 2018-08-29 14:37:51       28.102908   \n",
       "3     2019-12-10 16:01:26 2019-12-10 16:35:22       28.102908   \n",
       "4     2019-12-10 13:39:42 2019-12-10 17:58:22       28.999495   \n",
       "...                   ...                 ...             ...   \n",
       "78218 2018-06-25 11:25:04 2018-06-25 14:39:32       28.945221   \n",
       "78219 2018-04-06 10:07:13 2018-04-06 16:34:40       28.619318   \n",
       "78220 2018-07-13 22:59:34 2018-07-14 00:05:50       28.619318   \n",
       "78221 2018-11-06 00:05:57 2018-11-06 08:50:10       28.619318   \n",
       "78222 2018-10-15 02:24:15 2018-10-15 18:03:48       28.619318   \n",
       "\n",
       "       place_longitude duration      hours  \n",
       "0           113.617867 04:30:51   4.514167  \n",
       "1           113.617867 03:19:04   3.317778  \n",
       "2           113.617867 00:37:19   0.621944  \n",
       "3           113.617867 00:33:56   0.565556  \n",
       "4           115.167583 04:18:40   4.311111  \n",
       "...                ...      ...        ...  \n",
       "78218       114.357402 03:14:28   3.241111  \n",
       "78219       114.397573 06:27:27   6.457500  \n",
       "78220       114.397573 01:06:16   1.104444  \n",
       "78221       114.397573 08:44:13   8.736944  \n",
       "78222       114.397573 15:39:33  15.659167  \n",
       "\n",
       "[78223 rows x 6 columns]"
      ]
     },
     "execution_count": 170,
     "metadata": {},
     "output_type": "execute_result"
    }
   ],
   "source": [
    "df"
   ]
  },
  {
   "cell_type": "code",
   "execution_count": null,
   "metadata": {},
   "outputs": [],
   "source": []
  }
 ],
 "metadata": {
  "kernelspec": {
   "display_name": "Python 3",
   "language": "python",
   "name": "python3"
  },
  "language_info": {
   "codemirror_mode": {
    "name": "ipython",
    "version": 3
   },
   "file_extension": ".py",
   "mimetype": "text/x-python",
   "name": "python",
   "nbconvert_exporter": "python",
   "pygments_lexer": "ipython3",
   "version": "3.7.4"
  }
 },
 "nbformat": 4,
 "nbformat_minor": 2
}
